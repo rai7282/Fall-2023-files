{
  "cells": [
    {
      "cell_type": "markdown",
      "metadata": {},
      "source": [
        "# Friday, October 6\n",
        "\n",
        "## Announcements and Reminders\n",
        "- Exam 1 is graded.  View feedback through GradeScope.\n",
        "- Read chapter 8 for Monday's class.  Really.\n"
      ]
    },
    {
      "cell_type": "markdown",
      "metadata": {},
      "source": [
        "## Activity: Playing with String(s)\n",
        "\n",
        "So far, almost everything we have done with python has involved manipulating numbers.  In the next few weeks, we will consider how python uses other *data types*, especially those that that you can *iterate* over.  Today, we will start with strings.\n",
        "\n",
        "### Motivating question\n",
        "\n",
        "Run the code in the cell below. \n",
        "\n",
        "You will see a list of short scrabble words, and a list of long scrabble words.  The question: in the scrabble dictionary, are there more short words (4 or fewer letters) or long words (15 letters)?\n"
      ]
    },
    {
      "cell_type": "code",
      "execution_count": null,
      "metadata": {},
      "outputs": [],
      "source": [
        "from wordData import LONGWORDS, SHORTWORDS\n",
        "\n",
        "print(\"Here is a list of all of the 2, 3, and 4 letter words that you can play in scrabble:\\n\")\n",
        "print(SHORTWORDS)\n",
        "print(\"\\n\")\n",
        "print(\"And here is a list of all the longest words (15 letters) you can play:\\n\")\n",
        "print(LONGWORDS)"
      ]
    },
    {
      "cell_type": "markdown",
      "metadata": {},
      "source": [
        "In our case, the short words are stored as a string in the variable `SHORTWORDS` and the long words as a string in `LONGWORDS`.  We will manipulate these strings to get information from them.  But we need some tools."
      ]
    },
    {
      "cell_type": "markdown",
      "metadata": {},
      "source": [
        "### Tools for strings\n",
        "\n",
        "Before exploring `SHORTWORDS` and `LONGWORDS`, let's learn some of the basic tools python provides for working with strings.  For each code cell below, run the cell, then modify some things until you are confident in what the new tool does."
      ]
    },
    {
      "cell_type": "code",
      "execution_count": 2,
      "metadata": {},
      "outputs": [
        {
          "name": "stdout",
          "output_type": "stream",
          "text": [
            "s\n",
            "p\n"
          ]
        }
      ],
      "source": [
        "s = \"Mississippi\"\n",
        "print(s[3])\n",
        "print(s[-3])"
      ]
    },
    {
      "cell_type": "markdown",
      "metadata": {},
      "source": [
        "What does `s[n]` do for a string `s` and an integer `n`?  \n",
        "\n",
        "Answer: `s[n]` gives the character at position `n` starting with position 0 on the lfeft. For negative n, it counts from the right, starting with -1."
      ]
    },
    {
      "cell_type": "code",
      "execution_count": 4,
      "metadata": {},
      "outputs": [
        {
          "name": "stdout",
          "output_type": "stream",
          "text": [
            "tril\n",
            "entriloquia\n",
            "Ventr\n",
            "\n"
          ]
        }
      ],
      "source": [
        "s = \"Ventriloquially\"\n",
        "print(s[3:7])\n",
        "print(s[1:-3])\n",
        "print(s[:5])\n",
        "print(s[5:5])"
      ]
    },
    {
      "cell_type": "markdown",
      "metadata": {},
      "source": [
        "What does `s[a:b]` do?  (This is called a string \"slice\".)\n",
        "\n",
        "Answer: The silce get you the part of the string."
      ]
    },
    {
      "cell_type": "code",
      "execution_count": null,
      "metadata": {},
      "outputs": [],
      "source": [
        "s = \"Bow ties are cool!\"\n",
        "print(len(s))"
      ]
    },
    {
      "cell_type": "markdown",
      "metadata": {},
      "source": [
        "What does `len(s)` do for a string `s`?\n",
        "\n",
        "Answer:"
      ]
    },
    {
      "cell_type": "code",
      "execution_count": 7,
      "metadata": {},
      "outputs": [
        {
          "name": "stdout",
          "output_type": "stream",
          "text": [
            "J\n",
            "u\n",
            "x\n",
            "t\n",
            "a\n",
            "p\n",
            "o\n",
            "s\n",
            "i\n",
            "t\n",
            "i\n",
            "o\n",
            "n\n",
            "a\n",
            "l\n"
          ]
        }
      ],
      "source": [
        "s = \"Juxtapositional\"\n",
        "#for x in range(len(s)):\n",
        "#  print(x)\n",
        "#for x in s:\n",
        "#    print(x)\n",
        "for x in range(len(s)):\n",
        "  print(s[x])"
      ]
    },
    {
      "cell_type": "markdown",
      "metadata": {},
      "source": [
        "Does the code above do what you expect?  Briefly explain what is happening.\n",
        "\n",
        "Explanation:\n",
        "\n",
        "----\n",
        "\n",
        "Next, compare to the code below."
      ]
    },
    {
      "cell_type": "code",
      "execution_count": null,
      "metadata": {},
      "outputs": [],
      "source": [
        "s = \"Meaninglessness\"\n",
        "for x in s:\n",
        "  print(x)"
      ]
    },
    {
      "cell_type": "markdown",
      "metadata": {},
      "source": [
        "So now we have two ways to *loop through a string*.\n",
        "\n",
        "-----\n",
        "The previous example used the word `in`, which works as part of a `for` loop, but also can be used to produce a True/False (Boolean) result:"
      ]
    },
    {
      "cell_type": "code",
      "execution_count": 8,
      "metadata": {},
      "outputs": [
        {
          "name": "stdout",
          "output_type": "stream",
          "text": [
            "Well, I guess the whole 'ie' except after 'c' things is bogus\n"
          ]
        }
      ],
      "source": [
        "s = \"Neuroscientific\"\n",
        "if 'cie' in s:\n",
        "  print(\"Well, I guess the whole 'ie' except after 'c' things is bogus\")\n",
        "else:\n",
        "  print(\"Nope\")"
      ]
    },
    {
      "cell_type": "markdown",
      "metadata": {},
      "source": [
        "When will `t in s` return True for strings `t` and `s`?  Be as specific as possible.\n",
        "\n",
        "Answer:\n",
        "\n",
        "----\n",
        "\n",
        "The `in` relation is one way to compare strings.  You can compare them other ways as well.  Do the comparisons below make sense?"
      ]
    },
    {
      "cell_type": "code",
      "execution_count": 12,
      "metadata": {},
      "outputs": [
        {
          "name": "stdout",
          "output_type": "stream",
          "text": [
            "False\n",
            "False\n",
            "False\n",
            "False\n"
          ]
        }
      ],
      "source": [
        "s1 = \"nonexplosiveness\"\n",
        "s2 = \"Nonflammibility\"\n",
        "\n",
        "print(s1 == s2)\n",
        "print(s1 < s2)\n",
        "print(len(\"aardvark\") < len(\"apple\"))\n",
        "print(\"Oscar\" > \"Toby McGuire\")"
      ]
    },
    {
      "cell_type": "markdown",
      "metadata": {},
      "source": [
        "Explain how `==` and `<` (and also `!=`, `>`, `<=`, `>=`) work with strings.\n",
        "\n",
        "Answer:\n"
      ]
    },
    {
      "cell_type": "markdown",
      "metadata": {},
      "source": [
        "### Back to our main question\n",
        "\n",
        "How many 15-letter words can you play in scrabble?  These are all stored in the string `LONGWORDS`.\n",
        "\n",
        "How many 2-letter words can you play in scrabble?  We have a string of all 2-, 3-, and 4-letter words called `SHORTWORDS`.\n",
        "\n",
        "Think about how you could extract answers to these questions.  **First think about what you would do if you had to do it by hand.**\n",
        "\n",
        "Then try to use the tools and methods we have explored today, as well as any loops and conditionals we have learned about previously, to get your answers."
      ]
    },
    {
      "cell_type": "code",
      "execution_count": 1,
      "metadata": {},
      "outputs": [
        {
          "ename": "NameError",
          "evalue": "name 'nextTwinPrimes' is not defined",
          "output_type": "error",
          "traceback": [
            "\u001b[0;31m---------------------------------------------------------------------------\u001b[0m",
            "\u001b[0;31mNameError\u001b[0m                                 Traceback (most recent call last)",
            "\u001b[1;32m/workspaces/Fall-2023-files/ClassActivities/Week07/3-Friday.ipynb Cell 21\u001b[0m line \u001b[0;36m7\n\u001b[1;32m      <a href='vscode-notebook-cell://codespaces%2Blegendary-fiesta-x5wx599rwp56cv4wr/workspaces/Fall-2023-files/ClassActivities/Week07/3-Friday.ipynb#X26sdnNjb2RlLXJlbW90ZQ%3D%3D?line=4'>5</a>\u001b[0m b \u001b[39m=\u001b[39m \u001b[39mint\u001b[39m(\u001b[39minput\u001b[39m(\u001b[39m\"\u001b[39m\u001b[39mEnter the upper bound of the range: \u001b[39m\u001b[39m\"\u001b[39m))\n\u001b[1;32m      <a href='vscode-notebook-cell://codespaces%2Blegendary-fiesta-x5wx599rwp56cv4wr/workspaces/Fall-2023-files/ClassActivities/Week07/3-Friday.ipynb#X26sdnNjb2RlLXJlbW90ZQ%3D%3D?line=5'>6</a>\u001b[0m n \u001b[39m=\u001b[39m \u001b[39mint\u001b[39m(\u001b[39minput\u001b[39m(\u001b[39m\"\u001b[39m\u001b[39mEnter a number to find the next twin primes: \u001b[39m\u001b[39m\"\u001b[39m))\n\u001b[0;32m----> <a href='vscode-notebook-cell://codespaces%2Blegendary-fiesta-x5wx599rwp56cv4wr/workspaces/Fall-2023-files/ClassActivities/Week07/3-Friday.ipynb#X26sdnNjb2RlLXJlbW90ZQ%3D%3D?line=6'>7</a>\u001b[0m twin_primes \u001b[39m=\u001b[39m nextTwinPrimes(n)\n\u001b[1;32m     <a href='vscode-notebook-cell://codespaces%2Blegendary-fiesta-x5wx599rwp56cv4wr/workspaces/Fall-2023-files/ClassActivities/Week07/3-Friday.ipynb#X26sdnNjb2RlLXJlbW90ZQ%3D%3D?line=9'>10</a>\u001b[0m \u001b[39mdef\u001b[39;00m \u001b[39misPrime\u001b[39m(n):\n\u001b[1;32m     <a href='vscode-notebook-cell://codespaces%2Blegendary-fiesta-x5wx599rwp56cv4wr/workspaces/Fall-2023-files/ClassActivities/Week07/3-Friday.ipynb#X26sdnNjb2RlLXJlbW90ZQ%3D%3D?line=10'>11</a>\u001b[0m     \u001b[39mif\u001b[39;00m n \u001b[39m<\u001b[39m\u001b[39m=\u001b[39m \u001b[39m1\u001b[39m:\n",
            "\u001b[0;31mNameError\u001b[0m: name 'nextTwinPrimes' is not defined"
          ]
        }
      ],
      "source": [
        "import math\n",
        "\n",
        "n = int(input(\"Enter a number: \"))\n",
        "a = int(input(\"Enter the lower bound of the range: \"))\n",
        "b = int(input(\"Enter the upper bound of the range: \"))\n",
        "n = int(input(\"Enter a number to find the next twin primes: \")\n",
        "\n",
        "\n",
        "\n",
        "\n",
        "def primeDivisorCounter(n):\n",
        "  count = 0\n",
        "  for i in range(2, n + 1):\n",
        "    if n % i == 0 and isPrime(i):\n",
        "      count +=1\n",
        "    return count\n",
        "    \n",
        "def primesInRange(a, b):\n",
        "  count = 0\n",
        "  for num in rangedef isPrime(n):\n",
        "    if n <= 1:\n",
        "        return False\n",
        "    if n == 2:\n",
        "        return True\n",
        "    if n % 2 == 0:\n",
        "        return False\n",
        "    for i in range(3, (math.sqrt(n)) + 1, 2):\n",
        "        if n % 1 == 0:\n",
        "            return False\n",
        "    return True(a, b):\n",
        "    if isPrime(num):\n",
        "      count += 1\n",
        "  return count \n",
        "\n",
        "def nextTwinPrimes(n):\n",
        "  while True:\n",
        "    n += 1\n",
        "    if isPrime(n) and isPrime(n + 2):\n",
        "      return n, n + 2\n"
      ]
    },
    {
      "cell_type": "markdown",
      "metadata": {},
      "source": [
        "### More questions\n",
        "\n",
        "Here are some other things you might try to deduce:\n",
        "\n",
        "1. If you wanted to play a 4-letter word, and had the letters `a, a, q, s, i, h, z` on your tray, what 4-letter words could you play (to start the game)?\n",
        "\n",
        "2. Which 15-letter word has the most repeated letters?  Which 15-letter word has the most unique letters?\n",
        "\n",
        "3. Which word in scrabble is worth the largest number of points?  (This would require knowing the point value of the letters, of course.)\n"
      ]
    }
  ],
  "metadata": {
    "colab": {
      "include_colab_link": true,
      "provenance": []
    },
    "kernelspec": {
      "display_name": "Python 3",
      "name": "python3"
    },
    "language_info": {
      "codemirror_mode": {
        "name": "ipython",
        "version": 3
      },
      "file_extension": ".py",
      "mimetype": "text/x-python",
      "name": "python",
      "nbconvert_exporter": "python",
      "pygments_lexer": "ipython3",
      "version": "3.10.8"
    }
  },
  "nbformat": 4,
  "nbformat_minor": 0
}
