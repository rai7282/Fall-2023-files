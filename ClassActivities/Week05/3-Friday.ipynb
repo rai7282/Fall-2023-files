{
  "cells": [
    {
      "cell_type": "markdown",
      "metadata": {},
      "source": [
        "# Friday, September 22\n",
        "\n",
        "## Announcements and Reminders\n",
        "- Chapter 6 and 7 exercises due Monday\n",
        "- Quiz on loops: Monday\n",
        "- Programming Assigment 3: Wednesday\n",
        "- Exam 1: Monday, October 2\n",
        "\n",
        "### Questions:"
      ]
    },
    {
      "cell_type": "markdown",
      "metadata": {},
      "source": [
        "## Activity: Lots-o-Loops 2\n",
        "\n",
        "We will continue our investigation of loops in python today, picking up where we stopped last time.\n",
        "\n",
        "### Converting between `for` and `while`\n",
        "\n",
        "The function below adds up the first `n` odd numbers, using a while loop (do you see why?).  Implement another function that does the same thing with a while loop."
      ]
    },
    {
      "cell_type": "code",
      "execution_count": 8,
      "metadata": {},
      "outputs": [
        {
          "name": "stdout",
          "output_type": "stream",
          "text": [
            "49\n",
            "49\n"
          ]
        }
      ],
      "source": [
        "def sqr(n):\n",
        "  total = 0\n",
        "  next = 1\n",
        "  counter = 0\n",
        "  while counter < n:\n",
        "    total = total + next\n",
        "    next = next + 2\n",
        "    counter = counter + 1\n",
        "  return total\n",
        "\n",
        "print(sqr(7))\n",
        "\n",
        "# Reimplement the function above but this time use a for loop instead of a while loop.\n",
        "\n",
        "''' def resqr(n):\n",
        "  total = 0\n",
        "  next = 1\n",
        "  for counter in range(n):\n",
        "    total = total + next\n",
        "    next = next + 2  \n",
        "  return total\n",
        "\n",
        "print(resqr(7)) '''\n",
        "\n",
        "def reresqr(n):\n",
        "  total = 0\n",
        "  for next in range(1, 2*n, 2): #[1,3,5,7,...]\n",
        "    total = total + next\n",
        "  return total\n",
        "\n",
        "print(reresqr(7))"
      ]
    },
    {
      "cell_type": "markdown",
      "metadata": {},
      "source": [
        "### Fibonacci numbers!\n",
        "\n",
        "Probably the most famous sequence in all of mathematics is the Fibonacci sequence: 1, 1, 2, 3, 5, 8, 13, 21,...\n",
        "\n",
        "How can we find the `n`th Fibonacci number?  1 is both the first and second Fibonacci number; the third number in the sequence is 2."
      ]
    },
    {
      "cell_type": "code",
      "execution_count": 9,
      "metadata": {},
      "outputs": [
        {
          "ename": "UnboundLocalError",
          "evalue": "local variable 'c' referenced before assignment",
          "output_type": "error",
          "traceback": [
            "\u001b[0;31m---------------------------------------------------------------------------\u001b[0m",
            "\u001b[0;31mUnboundLocalError\u001b[0m                         Traceback (most recent call last)",
            "\u001b[1;32m/workspaces/Fall-2023-files/ClassActivities/Week05/3-Friday.ipynb Cell 5\u001b[0m line \u001b[0;36m2\n\u001b[1;32m     <a href='vscode-notebook-cell://codespaces%2Bfriendly-orbit-q7q6799vqp4jh97xr/workspaces/Fall-2023-files/ClassActivities/Week05/3-Friday.ipynb#W4sdnNjb2RlLXJlbW90ZQ%3D%3D?line=21'>22</a>\u001b[0m   \u001b[39mreturn\u001b[39;00m c\n\u001b[1;32m     <a href='vscode-notebook-cell://codespaces%2Bfriendly-orbit-q7q6799vqp4jh97xr/workspaces/Fall-2023-files/ClassActivities/Week05/3-Friday.ipynb#W4sdnNjb2RlLXJlbW90ZQ%3D%3D?line=22'>23</a>\u001b[0m     \u001b[39m#print(f\"end of loop: a ={a}, b = {b}, c = {c}\")\u001b[39;00m\n\u001b[0;32m---> <a href='vscode-notebook-cell://codespaces%2Bfriendly-orbit-q7q6799vqp4jh97xr/workspaces/Fall-2023-files/ClassActivities/Week05/3-Friday.ipynb#W4sdnNjb2RlLXJlbW90ZQ%3D%3D?line=24'>25</a>\u001b[0m \u001b[39mprint\u001b[39m(refib(\u001b[39m7\u001b[39;49m))\n",
            "\u001b[1;32m/workspaces/Fall-2023-files/ClassActivities/Week05/3-Friday.ipynb Cell 5\u001b[0m line \u001b[0;36m1\n\u001b[1;32m     <a href='vscode-notebook-cell://codespaces%2Bfriendly-orbit-q7q6799vqp4jh97xr/workspaces/Fall-2023-files/ClassActivities/Week05/3-Friday.ipynb#W4sdnNjb2RlLXJlbW90ZQ%3D%3D?line=15'>16</a>\u001b[0m b \u001b[39m=\u001b[39m \u001b[39m1\u001b[39m\n\u001b[1;32m     <a href='vscode-notebook-cell://codespaces%2Bfriendly-orbit-q7q6799vqp4jh97xr/workspaces/Fall-2023-files/ClassActivities/Week05/3-Friday.ipynb#W4sdnNjb2RlLXJlbW90ZQ%3D%3D?line=16'>17</a>\u001b[0m \u001b[39mfor\u001b[39;00m i \u001b[39min\u001b[39;00m \u001b[39mrange\u001b[39m(n):\n\u001b[0;32m---> <a href='vscode-notebook-cell://codespaces%2Bfriendly-orbit-q7q6799vqp4jh97xr/workspaces/Fall-2023-files/ClassActivities/Week05/3-Friday.ipynb#W4sdnNjb2RlLXJlbW90ZQ%3D%3D?line=17'>18</a>\u001b[0m   \u001b[39mprint\u001b[39m(\u001b[39mf\u001b[39m\u001b[39m\"\u001b[39m\u001b[39mStart of loop: a = \u001b[39m\u001b[39m{\u001b[39;00ma\u001b[39m}\u001b[39;00m\u001b[39m, b = \u001b[39m\u001b[39m{\u001b[39;00mb\u001b[39m}\u001b[39;00m\u001b[39m, c = \u001b[39m\u001b[39m{\u001b[39;00mc\u001b[39m}\u001b[39;00m\u001b[39m\"\u001b[39m)\n\u001b[1;32m     <a href='vscode-notebook-cell://codespaces%2Bfriendly-orbit-q7q6799vqp4jh97xr/workspaces/Fall-2023-files/ClassActivities/Week05/3-Friday.ipynb#W4sdnNjb2RlLXJlbW90ZQ%3D%3D?line=18'>19</a>\u001b[0m   c\u001b[39m=\u001b[39m a \u001b[39m+\u001b[39m b\n\u001b[1;32m     <a href='vscode-notebook-cell://codespaces%2Bfriendly-orbit-q7q6799vqp4jh97xr/workspaces/Fall-2023-files/ClassActivities/Week05/3-Friday.ipynb#W4sdnNjb2RlLXJlbW90ZQ%3D%3D?line=19'>20</a>\u001b[0m   a \u001b[39m=\u001b[39m b\n",
            "\u001b[0;31mUnboundLocalError\u001b[0m: local variable 'c' referenced before assignment"
          ]
        }
      ],
      "source": [
        "def fib(n):\n",
        "  if n == 0:\n",
        "    return 0\n",
        "  elif n == 1:\n",
        "    return 1\n",
        "  else:\n",
        "    return fib(n-1) + fib(n-2)\n",
        "#for i in range(10): \n",
        "# print(fib(i))\n",
        "\n",
        "\n",
        "# Implement the above function using either a for or while loop\n",
        "\n",
        "def refib(n):\n",
        "  a = 0\n",
        "  b = 1\n",
        "  for i in range(n):\n",
        "    print(f\"Start of loop: a = {a}, b = {b}, c = {c}\")\n",
        "    c= a + b\n",
        "    a = b\n",
        "    b =c\n",
        "  return c\n",
        "    #print(f\"end of loop: a ={a}, b = {b}, c = {c}\")\n",
        "\n",
        "print(refib(7))\n",
        "  "
      ]
    },
    {
      "cell_type": "markdown",
      "metadata": {},
      "source": [
        "### Counting things\n",
        "\n",
        "A great use of loops is to count *how many* things there are.  For example, consider the following function:"
      ]
    },
    {
      "cell_type": "code",
      "execution_count": null,
      "metadata": {},
      "outputs": [],
      "source": [
        "def countup(thing):\n",
        "  count = 0\n",
        "  for i in thing:\n",
        "    count = count+1\n",
        "  return count\n",
        "\n",
        "print(countup(\"One, Two, Three\"))\n",
        "\n",
        "print(countup([\"One\", \"Two\", \"Three\"]))\n",
        "\n",
        "print(countup(range(5, 17, 2)))"
      ]
    },
    {
      "cell_type": "markdown",
      "metadata": {},
      "source": [
        "So here is a challenge: How many different dominoes can there be?  A domino contains two sides, and each side has a number between 0 and 6 on it.  The domino (3,5) is the same as the domino (5,3).  So how many dominoes are there?  \n",
        "\n",
        "Let's write a function that computes this.  While we are at it, why don't we let the function answer more questions: instead of going up to 6, let's go up to any number we want.  Maybe we even ask the function to print out the dominoes for us."
      ]
    },
    {
      "cell_type": "code",
      "execution_count": 12,
      "metadata": {},
      "outputs": [
        {
          "name": "stdout",
          "output_type": "stream",
          "text": [
            "(0,0)\n",
            "(0,1)\n",
            "(0,2)\n",
            "(0,3)\n",
            "(0,4)\n",
            "(0,5)\n",
            "(0,6)\n",
            "(1,0)\n",
            "(1,1)\n",
            "(1,2)\n",
            "(1,3)\n",
            "(1,4)\n",
            "(1,5)\n",
            "(1,6)\n",
            "(2,0)\n",
            "(2,1)\n",
            "(2,2)\n",
            "(2,3)\n",
            "(2,4)\n",
            "(2,5)\n",
            "(2,6)\n",
            "(3,0)\n",
            "(3,1)\n",
            "(3,2)\n",
            "(3,3)\n",
            "(3,4)\n",
            "(3,5)\n",
            "(3,6)\n",
            "(4,0)\n",
            "(4,1)\n",
            "(4,2)\n",
            "(4,3)\n",
            "(4,4)\n",
            "(4,5)\n",
            "(4,6)\n",
            "(5,0)\n",
            "(5,1)\n",
            "(5,2)\n",
            "(5,3)\n",
            "(5,4)\n",
            "(5,5)\n",
            "(5,6)\n",
            "(6,0)\n",
            "(6,1)\n",
            "(6,2)\n",
            "(6,3)\n",
            "(6,4)\n",
            "(6,5)\n",
            "(6,6)\n"
          ]
        }
      ],
      "source": [
        "def dominoCounter(n):\n",
        "  for x in range(n+1):\n",
        "    for y in range(n+1):\n",
        "      print(f\"({x},{y})\")\n",
        "      \n",
        "dominoCounter(6)"
      ]
    },
    {
      "cell_type": "markdown",
      "metadata": {},
      "source": [
        "### Identifying Primes\n",
        "\n",
        "A number is **prime** provided it is a positive integer greater than 1 with exactly two divisors (i.e. factors): 1 and itself.  Integers greater than 1 which are not prime are called **composite**.  Your third programming assignment asks you to write some functions working with prime numbers.  For this, we need to decide whether a given number is prime to start with.\n",
        "\n",
        "Let's start by considering an example: is 2479 prime?"
      ]
    },
    {
      "cell_type": "code",
      "execution_count": null,
      "metadata": {},
      "outputs": [],
      "source": []
    }
  ],
  "metadata": {
    "colab": {
      "include_colab_link": true,
      "provenance": []
    },
    "kernelspec": {
      "display_name": "Python 3",
      "name": "python3"
    },
    "language_info": {
      "codemirror_mode": {
        "name": "ipython",
        "version": 3
      },
      "file_extension": ".py",
      "mimetype": "text/x-python",
      "name": "python",
      "nbconvert_exporter": "python",
      "pygments_lexer": "ipython3",
      "version": "3.10.8"
    }
  },
  "nbformat": 4,
  "nbformat_minor": 0
}
